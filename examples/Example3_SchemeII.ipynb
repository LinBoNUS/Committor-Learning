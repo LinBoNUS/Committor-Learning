{
 "cells": [
  {
   "cell_type": "code",
   "execution_count": null,
   "id": "dc8b441f",
   "metadata": {},
   "outputs": [],
   "source": [
    "import os\n",
    "os.environ['CUDA_VISIBLE_DEVICES'] = '3'\n",
    "os.environ['TF_CPP_MIN_LOG_LEVEL'] = '3' \n",
    "\n",
    "import numpy as np\n",
    "import matplotlib.pyplot as plt\n",
    "import torch \n",
    "from torch import nn\n",
    "torch.set_default_dtype(torch.float64)\n",
    "import torch.nn.functional as func\n",
    "\n",
    "import copy\n",
    "from tqdm.notebook import tqdm\n",
    "import time\n",
    "import random\n",
    "import seaborn as sns\n",
    "sns.set_theme()\n",
    "\n",
    "from sklearn.neighbors import NearestNeighbors\n",
    "from scipy.interpolate import griddata\n",
    "from scipy.spatial.distance import pdist, squareform\n",
    "from sklearn.metrics.pairwise import euclidean_distances\n",
    "from IPython.display import clear_output"
   ]
  },
  {
   "cell_type": "code",
   "execution_count": null,
   "id": "6f7cb4d0",
   "metadata": {},
   "outputs": [],
   "source": [
    "plt.rcParams['text.usetex'] = True"
   ]
  },
  {
   "cell_type": "code",
   "execution_count": null,
   "id": "ee29c6e1",
   "metadata": {},
   "outputs": [],
   "source": [
    "import matplotlib.pyplot as plt\n",
    "import matplotlib.image as mpimg\n",
    "\n",
    "import sys; sys.path.insert(1, '../')\n",
    "from committor_lib.Example3 import Solvated_dimer,Model,Solver\n",
    "from committor_lib.utils    import rL2,LangevinIntegrator,Metadynamics,Metadynamics_Extend"
   ]
  },
  {
   "cell_type": "markdown",
   "id": "dfba33fd",
   "metadata": {},
   "source": [
    "# The system"
   ]
  },
  {
   "cell_type": "code",
   "execution_count": null,
   "id": "85a91272",
   "metadata": {},
   "outputs": [],
   "source": [
    "# n_atoms = 32; L = 64**(1/3); density is 0.5\n",
    "\n",
    "SYS      = Solvated_dimer(n_atoms=32,L=64**(1/3),h=5,w=0.25,r0=2**(1/6),eps=1,rWCA=2**(1/6),); EPS = 1;\n",
    "get_x_bc = SYS.get_X_bc\n",
    "LI       = LangevinIntegrator(dim=SYS.dim)"
   ]
  },
  {
   "cell_type": "markdown",
   "id": "f9a39639",
   "metadata": {},
   "source": [
    "# Read some data"
   ]
  },
  {
   "cell_type": "code",
   "execution_count": null,
   "id": "dcb419ca",
   "metadata": {},
   "outputs": [],
   "source": [
    "# By simulating the Langevin dynamics\n",
    "X_A,X_B = np.loadtxt('../saved_data/X_A'),np.loadtxt('../saved_data/X_B')\n",
    "# By Monte Carlo methods\n",
    "X_u,q_u = np.loadtxt('../saved_data/X_u'),np.loadtxt('../saved_data/q_u')\n",
    "print(X_A.shape,X_B.shape,X_u.shape,q_u.shape);\n",
    "def Error_Model(model): return rL2(q_u,model.get_q(X_u))\n",
    "def E_AB(model): return np.sqrt(np.mean(model.get_q(X_A)**2))+np.sqrt(np.mean((1-model.get_q(X_B))**2))"
   ]
  },
  {
   "cell_type": "code",
   "execution_count": null,
   "id": "914ad9c3",
   "metadata": {
    "code_folding": [
     0
    ]
   },
   "outputs": [],
   "source": [
    "def Estimate_Model(model,X_u=X_u,q_u=q_u,SYS=SYS):\n",
    "    fig,ax = plt.subplots(1,2,figsize=(12,5))\n",
    "    q_NN = model.get_q(X_u)\n",
    "    ax[0].scatter(SYS.get_bond_length(X_u),q_NN,s=5.,label='100 states')\n",
    "    ax[1].scatter(SYS.get_bond_length(X_u),q_u,s=5.,c='g',label='100 states')\n",
    "    ax[0].set_title('NN: %.3f'%rL2(q_u,q_NN))\n",
    "    ax[1].set_title('MC')\n",
    "    for i in range(2):\n",
    "        ax[i].set_xlabel('bond length',fontsize=13)\n",
    "        ax[i].set_ylabel('$q$',fontsize=13,rotation=0)\n",
    "        ax[i].set_xlim([SYS.r0,SYS.r0+2*SYS.w])\n",
    "        ax[i].set_ylim([-.1,1.1])\n",
    "        ax[i].legend(fontsize=13)\n",
    "    plt.show()"
   ]
  },
  {
   "cell_type": "markdown",
   "id": "e9e0660f",
   "metadata": {},
   "source": [
    "# Set the model"
   ]
  },
  {
   "cell_type": "code",
   "execution_count": null,
   "id": "89d3c9b9",
   "metadata": {},
   "outputs": [],
   "source": [
    "def get_wrapvec(x,L=SYS.L): return x-torch.round(x/L)*L\n",
    "\n",
    "n           = 10\n",
    "rbf_centers = torch.tensor(np.linspace(0,SYS.L/2*np.sqrt(3)+1,100)).cuda()\n",
    "rbf_gap     = (rbf_centers[1]-rbf_centers[0])**2*10\n",
    "model       = Model(get_wrapvec=get_wrapvec,rbf_centers=rbf_centers,rbf_gap=rbf_gap,\n",
    "                    n_atoms=SYS.n_atoms,input_dim=SYS.dim,n_fea=32,n_interactions=2,n=n).cuda()\n",
    "solver      = Solver(model,unit_len=100,q0=-5,q1=5)"
   ]
  },
  {
   "cell_type": "code",
   "execution_count": null,
   "id": "92d27106",
   "metadata": {},
   "outputs": [],
   "source": [
    "Estimate_Model(model,X_u=X_u,q_u=q_u,SYS=SYS)"
   ]
  },
  {
   "cell_type": "markdown",
   "id": "eb603128",
   "metadata": {},
   "source": [
    "# Train"
   ]
  },
  {
   "cell_type": "code",
   "execution_count": null,
   "id": "b5dc9696",
   "metadata": {
    "code_folding": [
     0
    ]
   },
   "outputs": [],
   "source": [
    "def show_distr(X,ax,get_phi=SYS.get_bond_length):\n",
    "    bond_length = get_phi(X)\n",
    "    ax.hist(bond_length,25)\n",
    "    ax.axvline(SYS.r0,linestyle='--',linewidth=3,color='r')\n",
    "    ax.axvline(SYS.r0+2*SYS.w,linestyle='--',linewidth=3,color='r')\n",
    "    ax.set_xlabel('bond length')\n",
    "    ax.set_title('shape:'+str(X.shape))"
   ]
  },
  {
   "cell_type": "code",
   "execution_count": null,
   "id": "dceb80a7",
   "metadata": {
    "code_folding": [
     0,
     3
    ]
   },
   "outputs": [],
   "source": [
    "def down_sample(X):\n",
    "    mask = SYS.IsInA(X) | SYS.IsInB(X)\n",
    "    return X[~mask]\n",
    "def get_train_test(X,coef,X_A,X_B,ratio=0.7):\n",
    "    Xc         = np.hstack([X,coef.reshape(-1,1)])\n",
    "    data_train = []\n",
    "    data_test  = []\n",
    "    for d,requires_grad in [[Xc,True],[X_A,False],[X_B,False]]:\n",
    "        perm = np.random.permutation(len(d))\n",
    "        d1 = d[perm[:int(len(d)*ratio)]]\n",
    "        data_train.append(torch.tensor(d1,requires_grad=requires_grad).cuda())\n",
    "        d2 = d[perm[int(len(d)*ratio):]]\n",
    "        data_test.append(torch.tensor(d2,requires_grad=requires_grad).cuda())\n",
    "    return data_train,data_test "
   ]
  },
  {
   "cell_type": "code",
   "execution_count": null,
   "id": "e2ff6d92",
   "metadata": {},
   "outputs": [],
   "source": [
    "NAME = 'DIM2'\n",
    "if not os.path.isdir('../saved_models/'+NAME+'/'): os.mkdir('../saved_models/'+NAME+'/')\n",
    "if not os.path.isdir('../saved_data/'+NAME+'/'): os.mkdir('../saved_data/'+NAME+'/')"
   ]
  },
  {
   "cell_type": "code",
   "execution_count": null,
   "id": "7538bfca",
   "metadata": {},
   "outputs": [],
   "source": [
    "def get_wrapvec(x,L=SYS.L): return x-torch.round(x/L)*L\n",
    "\n",
    "n           = 10\n",
    "rbf_centers = torch.tensor(np.linspace(0,SYS.L/2*np.sqrt(3)+1,100)).cuda()\n",
    "rbf_gap     = (rbf_centers[1]-rbf_centers[0])**2*10\n",
    "model       = Model(get_wrapvec=get_wrapvec,rbf_centers=rbf_centers,rbf_gap=rbf_gap,\n",
    "                    n_atoms=SYS.n_atoms,input_dim=SYS.dim,n_fea=32,n_interactions=2,n=n).cuda()\n",
    "solver      = Solver(model,unit_len=100,q0=-5,q1=5)\n",
    "\n",
    "meta = Metadynamics_Extend(model=model,h=.1,w=.003,eps=EPS)"
   ]
  },
  {
   "cell_type": "code",
   "execution_count": null,
   "id": "ae7e260b",
   "metadata": {
    "code_folding": []
   },
   "outputs": [],
   "source": [
    "#########     training details  ##########################\n",
    "c1 = 1;  c2 = 1; learning_rate = 1e-4;                   #\n",
    "##########################################################\n",
    "\n",
    "model.load_state_dict(torch.load('../saved_models/E3_Random1'))\n",
    "torch.save(meta,'../saved_models/'+NAME+'/meta%d'%0)\n",
    "torch.save(model.state_dict(), '../saved_models/'+NAME+'/par%d'%0)\n",
    "    \n",
    "K = 10\n",
    "for k in range(1,K+1):\n",
    "    \n",
    "    meta.re_init()\n",
    "    meta.perform(dV=SYS.get_dV,x=X_A[-1].reshape(1,-1),dt=1e-4,eps=EPS,\n",
    "                 N=int(2e5),N_add=200,show_freq=.1,use_tqdm=False,get_x_bc=get_x_bc,show_distr=show_distr,\n",
    "                 fig_name='../saved_data/'+NAME+'/ite%d'%k)\n",
    "    meta.show_meta(show_distr)\n",
    "    \n",
    "    def get_f(X): return -SYS.get_dV(X) + meta.get_dF(X)/2\n",
    "    X0  = np.repeat(X_A[-1].reshape(1,-1),100,axis=0)  \n",
    "    X   = LI.get_data(X0,get_f,eps=EPS,dt=1e-4,m=100,T0=1,T=6,get_x_bc=get_x_bc,use_tqdm=False);\n",
    "    X   = down_sample(X)\n",
    "    fig,ax = plt.subplots(1,1,figsize=(3,3))\n",
    "    show_distr(X,ax)\n",
    "    plt.show()\n",
    "    \n",
    "    V_add = -meta.get_F(X)/2\n",
    "    coef  = np.exp(1/EPS*(V_add-V_add.max()))\n",
    "    coef  = coef/coef.mean()\n",
    "    \n",
    "    data_train,data_test = get_train_test(X,coef,X_A,X_B,ratio=.99)\n",
    "    for i in range(len(data_train)): print(data_train[i].shape,data_test[i].shape)\n",
    "    optimizer = torch.optim.Adam(model.parameters(),lr=torch.tensor(learning_rate).cuda())\n",
    "    solver.train_model(data_train=data_train,data_test=data_test,c1=c1,c2=c2,batch_size=100,\n",
    "                       optimizer=optimizer,n_steps=int(5000+1),n_show_loss=500,use_tqdm=False,\n",
    "                       error_model1=Error_Model,error_model2=E_AB,)\n",
    "    Estimate_Model(model)\n",
    "    \n",
    "    torch.save(meta,'../saved_models/'+NAME+'/meta%d'%k)\n",
    "    torch.save([X,coef],'../saved_data/'+NAME+'/data%d'%k)\n",
    "    torch.save(model.state_dict(), '../saved_models/'+NAME+'/par%d'%k)"
   ]
  },
  {
   "cell_type": "code",
   "execution_count": null,
   "id": "d21bb7c3",
   "metadata": {},
   "outputs": [],
   "source": []
  }
 ],
 "metadata": {
  "hide_input": false,
  "kernelspec": {
   "display_name": "Python 3 (ipykernel)",
   "language": "python",
   "name": "python3"
  },
  "language_info": {
   "codemirror_mode": {
    "name": "ipython",
    "version": 3
   },
   "file_extension": ".py",
   "mimetype": "text/x-python",
   "name": "python",
   "nbconvert_exporter": "python",
   "pygments_lexer": "ipython3",
   "version": "3.8.18"
  },
  "varInspector": {
   "cols": {
    "lenName": 16,
    "lenType": 16,
    "lenVar": 40
   },
   "kernels_config": {
    "python": {
     "delete_cmd_postfix": "",
     "delete_cmd_prefix": "del ",
     "library": "var_list.py",
     "varRefreshCmd": "print(var_dic_list())"
    },
    "r": {
     "delete_cmd_postfix": ") ",
     "delete_cmd_prefix": "rm(",
     "library": "var_list.r",
     "varRefreshCmd": "cat(var_dic_list()) "
    }
   },
   "types_to_exclude": [
    "module",
    "function",
    "builtin_function_or_method",
    "instance",
    "_Feature"
   ],
   "window_display": false
  }
 },
 "nbformat": 4,
 "nbformat_minor": 5
}
