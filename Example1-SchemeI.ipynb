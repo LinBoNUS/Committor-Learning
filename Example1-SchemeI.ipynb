{
 "cells": [
  {
   "cell_type": "code",
   "execution_count": null,
   "id": "25c11f1b",
   "metadata": {},
   "outputs": [],
   "source": [
    "import os\n",
    "os.environ['CUDA_VISIBLE_DEVICES'] = '-1'\n",
    "os.environ['TF_CPP_MIN_LOG_LEVEL'] = '3' \n",
    "\n",
    "import numpy as np\n",
    "import matplotlib.pyplot as plt\n",
    "import torch \n",
    "from torch import nn\n",
    "torch.set_default_dtype(torch.float64)\n",
    "import torch.nn.functional as func\n",
    "\n",
    "import copy\n",
    "from tqdm.notebook import tqdm\n",
    "import time\n",
    "import random\n",
    "import seaborn as sns\n",
    "sns.set_theme()\n",
    "\n",
    "from sklearn.neighbors import NearestNeighbors\n",
    "from scipy.interpolate import griddata\n",
    "from scipy.spatial.distance import pdist, squareform\n",
    "from sklearn.metrics.pairwise import euclidean_distances\n",
    "from IPython.display import clear_output"
   ]
  },
  {
   "cell_type": "code",
   "execution_count": null,
   "id": "16947493",
   "metadata": {},
   "outputs": [],
   "source": [
    "plt.rcParams['text.usetex'] = True"
   ]
  },
  {
   "cell_type": "code",
   "execution_count": null,
   "id": "ee2b7f29",
   "metadata": {},
   "outputs": [],
   "source": [
    "import matplotlib.pyplot as plt\n",
    "import matplotlib.image as mpimg\n",
    "\n",
    "from Example1 import Mueller_System\n",
    "from utils    import LangevinIntegrator,rL2,Model,Model_cpu,Solver,Metadynamics,Metadynamics_Extend"
   ]
  },
  {
   "cell_type": "code",
   "execution_count": null,
   "id": "41d2006d",
   "metadata": {},
   "outputs": [],
   "source": []
  },
  {
   "cell_type": "code",
   "execution_count": null,
   "id": "6bc48ef6",
   "metadata": {},
   "outputs": [],
   "source": [
    "SYS = Mueller_System(); EPS = 10;\n",
    "LI  = LangevinIntegrator(dim=SYS.dim)"
   ]
  },
  {
   "cell_type": "code",
   "execution_count": null,
   "id": "d185c15b",
   "metadata": {
    "code_folding": [
     0,
     3,
     9
    ]
   },
   "outputs": [],
   "source": [
    "def get_q_NN(X,model_name=-1): \n",
    "    if model_name!=-1: model.load_weights(model_name);\n",
    "    return model.get_q(X).reshape(-1)\n",
    "def replace_lines(file_name, line_num, text):\n",
    "    lines = open(file_name, 'r').readlines()\n",
    "    for k in range(len(line_num)): lines[line_num[k]] = text[k]\n",
    "    out = open(file_name, 'w')\n",
    "    out.writelines(lines)\n",
    "    out.close()  \n",
    "def get_q_FEM(X,m=200,mb=50,file_name='MU_2D.edp'):\n",
    "    eps=EPS\n",
    "    random_id = np.random.randint(1e8)\n",
    "    file_name0 = file_name\n",
    "    file_name  = file_name[:-4] + str(random_id) + file_name[-4:]\n",
    "    ! cp $file_name0 $file_name\n",
    "    np.savetxt(\"X\"+str(random_id),X[:,:2])\n",
    "    replace_lines(file_name,[0,10,22,23],[\"real eps=\"+str(eps)+\";\\n\",\"int m=%d,mb=%d;\\n\"%(m,mb),\n",
    "                                          \"ifstream fin(\\\"X\"+str(random_id) + \"\\\");\\n\",\n",
    "                                          \"ofstream fout(\\\"q\"+str(random_id) + \"\\\");\\n\"])\n",
    "    !FreeFem++ $file_name > FEM.log\n",
    "    os.remove(\"X\"+str(random_id))\n",
    "    os.remove(file_name)\n",
    "    q = np.loadtxt(\"q\"+str(random_id)).reshape(-1)\n",
    "    os.remove(\"q\"+str(random_id))\n",
    "    return q[:len(X)] # may output len(X)+1 values"
   ]
  },
  {
   "cell_type": "markdown",
   "id": "c8d044d3",
   "metadata": {},
   "source": [
    "# Read some data"
   ]
  },
  {
   "cell_type": "code",
   "execution_count": null,
   "id": "f35f22d6",
   "metadata": {
    "code_folding": [
     0,
     6,
     12,
     18
    ]
   },
   "outputs": [],
   "source": [
    "def get_X_A(n,w=2*SYS.sigma*np.sqrt(EPS)):\n",
    "    X = np.random.uniform(SYS.A[0]-SYS.r,SYS.A[0]+SYS.r,(10*n,SYS.dim))\n",
    "    X[:,1] = np.random.uniform(SYS.A[1]-SYS.r,SYS.A[1]+SYS.r,(10*n))\n",
    "    X[:,2:] = np.random.uniform(-w,w,(10*n,SYS.dim-2))\n",
    "    mask = SYS.IsInA(X)\n",
    "    return X[mask][:n]\n",
    "def get_X_B(n,w=2*SYS.sigma*np.sqrt(EPS)):\n",
    "    X = np.random.uniform(SYS.B[0]-SYS.r,SYS.B[0]+SYS.r,(10*n,SYS.dim))\n",
    "    X[:,1] = np.random.uniform(SYS.B[1]-SYS.r,SYS.B[1]+SYS.r,(10*n))\n",
    "    X[:,2:] = np.random.uniform(-w,w,(10*n,SYS.dim-2))\n",
    "    mask = SYS.IsInB(X)\n",
    "    return X[mask][:n]\n",
    "def get_min_V_2D():\n",
    "    xx = np.linspace(-.8,-.3,1000)\n",
    "    yy = np.linspace(1.2,1.7,1000)\n",
    "    XX,YY  = np.meshgrid(xx,yy)\n",
    "    x_list = np.concatenate([XX[:,:,None],YY[:,:,None]],axis=-1).reshape(-1,2)\n",
    "    return SYS.get_V_2D(x_list).min()\n",
    "def get_uniform_data(N,Vbar=130):\n",
    "    sigma     = SYS.sigma*np.sqrt(EPS)\n",
    "    data      = np.random.uniform(-2*sigma,2*sigma,(N*10,SYS.dim))\n",
    "    data[:,0] = np.random.uniform(SYS.xrange[0],SYS.xrange[1],N*10)\n",
    "    data[:,1] = np.random.uniform(SYS.yrange[0],SYS.yrange[1],N*10)\n",
    "    mask      = (SYS.get_V_2D(data[:,:2])-get_min_V_2D())<Vbar;\n",
    "    return data[mask][:N]"
   ]
  },
  {
   "cell_type": "code",
   "execution_count": null,
   "id": "107d235d",
   "metadata": {
    "scrolled": true
   },
   "outputs": [],
   "source": [
    "X_u = get_uniform_data(int(1e5))\n",
    "q_u = get_q_FEM(X_u);\n",
    "def Error_Model(model): return rL2(q_u,model.get_q(X_u))\n",
    "mask = abs(q_u-0.5)<0.2; X_u2 = X_u[mask]; q_u2 = q_u[mask];\n",
    "def Error_Model2(model): return rL2(q_u2,model.get_q(X_u2))\n",
    "print(X_u.shape,X_u2.shape)\n",
    "\n",
    "X_A = get_X_A(5000)\n",
    "X_B = get_X_B(5000)\n",
    "print(X_A.shape,X_B.shape)\n",
    "def E_AB(model): return np.sqrt(np.mean(model.get_q(X_A)**2))+np.sqrt(np.mean((1-model.get_q(X_B))**2))"
   ]
  },
  {
   "cell_type": "markdown",
   "id": "e9303b00",
   "metadata": {},
   "source": [
    "# Set the model"
   ]
  },
  {
   "cell_type": "code",
   "execution_count": null,
   "id": "0a76cbe4",
   "metadata": {},
   "outputs": [],
   "source": [
    "n      = 10;\n",
    "model  = Model_cpu(input_dim=SYS.dim,num_hidden=2,hidden_dim=50,n=n)\n",
    "solver = Solver(model,q0=-5,q1=5)"
   ]
  },
  {
   "cell_type": "code",
   "execution_count": null,
   "id": "c8dd7915",
   "metadata": {
    "code_folding": [
     1
    ]
   },
   "outputs": [],
   "source": [
    "def mask_fn(X): return (SYS.get_V(X)-SYS.get_V(X).min())<130; \n",
    "def ShowQandSampledData(q_fn,mask_fn=mask_fn,xrange=SYS.xrange,yrange=SYS.yrange,dim=SYS.dim,nx=100,ny=100,\n",
    "                states=[],titles=[],q_list=np.linspace(.1,.9,9),fig_name=None):\n",
    "    xx     = np.linspace(xrange[0],xrange[1],nx)\n",
    "    yy     = np.linspace(yrange[0],yrange[1],ny)\n",
    "    XX,YY  = np.meshgrid(xx,yy)\n",
    "    x_list = np.concatenate([XX[:,:,None],YY[:,:,None]],axis=-1).reshape(-1,2)\n",
    "    x_list = np.hstack([x_list,np.zeros(dtype=np.float64,shape=(x_list.shape[0],dim-2))])\n",
    "    mask   = mask_fn(x_list); \n",
    "    V      = SYS.get_V(x_list); V[~mask] = np.nan;\n",
    "    num    = len(q_fn)\n",
    "    fig,ax = plt.subplots(1,num,figsize=(4.5*num,4),constrained_layout=True)\n",
    "    for k in range(num):\n",
    "        q  = q_fn[k](x_list); q[~mask] = np.nan;\n",
    "        c1 = ax[k].contour(XX,YY,q.reshape(XX.shape),q_list,colors='black',linestyles='solid',linewidths=2);  \n",
    "        ax[k].clabel(c1, inline=1, fontsize=10)\n",
    "        if len(states)>0 and len(states[k])>0: [ax[k].scatter(d[:,0],d[:,1],s=1) for d in states[k]]\n",
    "        \n",
    "        ax[k].contour(XX,YY,V.reshape(XX.shape),5,colors='grey',linestyles='dashed',linewidths=.7);  \n",
    "        ax[k].add_artist(plt.Circle(SYS.A, SYS.r, color='k'))\n",
    "        ax[k].add_artist(plt.Circle(SYS.B, SYS.r, color='k'))\n",
    "        ax[k].text(SYS.A[0]-0.1, SYS.A[1]+0.15, '$A$', fontsize=20)\n",
    "        ax[k].text(SYS.B[0]+0.1, SYS.B[1]-0.20, '$B$', fontsize=20)\n",
    "        ax[k].set_xlabel('$x_1$', fontsize=18)\n",
    "        if k==0: ax[k].set_ylabel('$x_2$', fontsize=18, rotation=0)\n",
    "        ax[k].tick_params(axis=\"both\", labelsize=10) \n",
    "        ax[k].set_xlim(xrange)\n",
    "        ax[k].set_ylim(yrange)\n",
    "        if len(titles)>0: ax[k].set_title(titles[k],fontsize=20)\n",
    "\n",
    "    if fig_name is not None: plt.savefig(fig_name,dpi=300)\n",
    "    plt.show()    "
   ]
  },
  {
   "cell_type": "code",
   "execution_count": null,
   "id": "82d33e43",
   "metadata": {},
   "outputs": [],
   "source": [
    "data_train = [[],torch.tensor(X_A),torch.tensor(X_B)]\n",
    "data_test  = [[],torch.tensor(X_A),torch.tensor(X_B)]\n",
    "optimizer = torch.optim.Adam(model.parameters(),lr=torch.tensor(1e-3))\n",
    "\n",
    "def terminal_condition(model): return E_AB(model)<1e-2\n",
    "solver.train_model(data_train=data_train,data_test=data_test,c1=0,c2=1,batch_size=5000,\n",
    "                   optimizer=optimizer,n_steps=int(1e4+1),n_show_loss=200,\n",
    "                   error_model1=Error_Model,error_model2=E_AB,\n",
    "                   terminal_condition=terminal_condition,use_tqdm=True)\n",
    "\n",
    "print(solver.q0)\n",
    "ShowQandSampledData([model.get_q,model.get_r],titles=[r'$q$',r'$r$'])\n",
    "torch.save(model.state_dict(), \"saved_models/par0\") "
   ]
  },
  {
   "cell_type": "markdown",
   "id": "d142de0e",
   "metadata": {},
   "source": [
    "# metadynamics"
   ]
  },
  {
   "cell_type": "code",
   "execution_count": null,
   "id": "d272e1d6",
   "metadata": {
    "code_folding": [
     0,
     5,
     8
    ]
   },
   "outputs": [],
   "source": [
    "def show_distr(X,ax):\n",
    "    ax.scatter(X[:,0],X[:,1],s=1);\n",
    "    ax.set_xlim(SYS.xrange); ax.set_ylim(SYS.yrange)\n",
    "    ax.set_xlabel(r'$x_1$'); ax.set_ylabel(r'$x_2$',rotation=1)\n",
    "    ax.set_title('shape:'+str(X.shape))\n",
    "def down_sample(X):\n",
    "    mask = SYS.IsInA(X) | SYS.IsInB(X)\n",
    "    return X[~mask]\n",
    "def get_train_test(X,coef,X_A,X_B,ratio=0.7):\n",
    "    Xc         = np.hstack([X,coef.reshape(-1,1)])\n",
    "    data_train = []\n",
    "    data_test  = []\n",
    "    for d,requires_grad in [[Xc,True],[X_A,False],[X_B,False]]:\n",
    "        perm = np.random.permutation(len(d))\n",
    "        d1 = d[perm[:int(len(d)*ratio)]]\n",
    "        data_train.append(torch.tensor(d1,requires_grad=requires_grad))\n",
    "        d2 = d[perm[int(len(d)*ratio):]]\n",
    "        data_test.append(torch.tensor(d2,requires_grad=requires_grad))\n",
    "    return data_train,data_test "
   ]
  },
  {
   "cell_type": "code",
   "execution_count": null,
   "id": "ccca36a4",
   "metadata": {},
   "outputs": [],
   "source": []
  },
  {
   "cell_type": "code",
   "execution_count": null,
   "id": "8097ecc4",
   "metadata": {},
   "outputs": [],
   "source": [
    "n      = 10;\n",
    "model  = Model_cpu(input_dim=SYS.dim,num_hidden=2,hidden_dim=50,n=n)\n",
    "solver = Solver(model,q0=-5,q1=5)\n",
    "meta   = Metadynamics(model=model,h=2,w=.003)"
   ]
  },
  {
   "cell_type": "code",
   "execution_count": null,
   "id": "cfd271f3",
   "metadata": {},
   "outputs": [],
   "source": [
    "NAME = 'ABC51'\n",
    "if not os.path.isdir('saved_models/'+NAME+'/'): os.mkdir('saved_models/'+NAME+'/')\n",
    "if not os.path.isdir('meta_data/'+NAME+'/'): os.mkdir('meta_data/'+NAME+'/')"
   ]
  },
  {
   "cell_type": "code",
   "execution_count": null,
   "id": "67845302",
   "metadata": {
    "code_folding": [
     10
    ]
   },
   "outputs": [],
   "source": [
    "#########     training details  ##########################\n",
    "c1 = 1;  c2 = 1; learning_rate = 1e-4;                   #\n",
    "##########################################################\n",
    "\n",
    "model.load_state_dict(torch.load(\"saved_models/par0\"))\n",
    "ShowQandSampledData([model.get_q,model.get_r],titles=[r'$q$',r'$r$'])\n",
    "torch.save(meta,'saved_models/'+NAME+'/meta%d'%0)\n",
    "torch.save(model.state_dict(), 'saved_models/'+NAME+'/par%d'%0)\n",
    "\n",
    "K = 10\n",
    "for k in range(1,K+1):\n",
    "\n",
    "    meta.re_init()\n",
    "    meta.perform(dV=SYS.get_dV,x=SYS.A.reshape(1,-1),dt=1e-5,eps=EPS,\n",
    "                 N=int(1e6),N_add=500,show_freq=.5,use_tqdm=False,show_distr=show_distr,\n",
    "                 fig_name='meta_data/'+NAME+'/ite%d'%k)\n",
    "    meta.show_meta(show_distr)\n",
    "\n",
    "    def get_f(X): return -SYS.get_dV(X) - meta.get_dV(X)\n",
    "    X0  = np.repeat(SYS.A.reshape(1,-1),50,axis=0)\n",
    "    X   = LI.get_data(X0,get_f,eps=EPS,dt=1e-5,m=100,T0=1,T=2,use_tqdm=False);\n",
    "    X   = down_sample(X) \n",
    "    fig,ax = plt.subplots(1,1,figsize=(3,3))\n",
    "    show_distr(X,ax)\n",
    "    plt.show()\n",
    "\n",
    "    V_add = meta.get_V(X)\n",
    "    coef  = np.exp(1/EPS*(V_add-V_add.max()))\n",
    "    coef  = coef/coef.mean()\n",
    "\n",
    "    data_train,data_test = get_train_test(X,coef,X_A,X_B,ratio=.9)\n",
    "    for i in range(len(data_train)): print(data_train[i].shape,data_test[i].shape)\n",
    "    optimizer = torch.optim.Adam(model.parameters(),lr=torch.tensor(learning_rate))\n",
    "    solver.train_model(data_train=data_train,data_test=data_test,c1=c1,c2=c2,batch_size=5000,\n",
    "                       optimizer=optimizer,n_steps=int(5000+1),n_show_loss=1000,use_tqdm=False,\n",
    "                       error_model1=Error_Model,error_model2=Error_Model2)\n",
    "    ShowQandSampledData([get_q_FEM,model.get_q],states=[[],[X]],\n",
    "                        titles=['Ref.','Sampling Scheme I'])\n",
    "\n",
    "    torch.save(meta,'saved_models/'+NAME+'/meta%d'%k)\n",
    "    torch.save([X,coef],'meta_data/'+NAME+'/data%d'%k)\n",
    "    torch.save(model.state_dict(), 'saved_models/'+NAME+'/par%d'%k)"
   ]
  },
  {
   "cell_type": "code",
   "execution_count": null,
   "id": "f55b7c23",
   "metadata": {},
   "outputs": [],
   "source": []
  }
 ],
 "metadata": {
  "hide_input": false,
  "kernelspec": {
   "display_name": "Python 3 (ipykernel)",
   "language": "python",
   "name": "python3"
  },
  "language_info": {
   "codemirror_mode": {
    "name": "ipython",
    "version": 3
   },
   "file_extension": ".py",
   "mimetype": "text/x-python",
   "name": "python",
   "nbconvert_exporter": "python",
   "pygments_lexer": "ipython3",
   "version": "3.8.18"
  },
  "varInspector": {
   "cols": {
    "lenName": 16,
    "lenType": 16,
    "lenVar": 40
   },
   "kernels_config": {
    "python": {
     "delete_cmd_postfix": "",
     "delete_cmd_prefix": "del ",
     "library": "var_list.py",
     "varRefreshCmd": "print(var_dic_list())"
    },
    "r": {
     "delete_cmd_postfix": ") ",
     "delete_cmd_prefix": "rm(",
     "library": "var_list.r",
     "varRefreshCmd": "cat(var_dic_list()) "
    }
   },
   "types_to_exclude": [
    "module",
    "function",
    "builtin_function_or_method",
    "instance",
    "_Feature"
   ],
   "window_display": false
  }
 },
 "nbformat": 4,
 "nbformat_minor": 5
}
